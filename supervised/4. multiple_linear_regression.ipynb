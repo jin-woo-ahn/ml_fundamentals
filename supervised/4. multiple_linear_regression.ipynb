{
 "cells": [
  {
   "cell_type": "markdown",
   "id": "019eee4f",
   "metadata": {},
   "source": [
    "## Machine Learning Fundamentals: Multiple Linear Regression\n",
    "Author: Jinwoo Ahn"
   ]
  },
  {
   "cell_type": "markdown",
   "id": "807a22e1",
   "metadata": {},
   "source": [
    "In one of the earlier tutorials, we discussed the linear of <b>univariate linear regression</b>, which is when we only have one variable to predict a certain entity. In this tutorial, we are going to expand on that knowledge to work on something called the <b>multiple linear regression</b> where we will have multiple variables that we can use to predict the desired outcome."
   ]
  },
  {
   "cell_type": "markdown",
   "id": "f072633a",
   "metadata": {},
   "source": [
    "### Libraries & Files"
   ]
  },
  {
   "cell_type": "code",
   "execution_count": 1,
   "id": "cebd53c4",
   "metadata": {},
   "outputs": [],
   "source": [
    "import numpy as np\n",
    "import pandas as pd\n",
    "import matplotlib.pyplot as plt\n",
    "\n",
    "from sklearn.linear_model import LinearRegression"
   ]
  },
  {
   "cell_type": "code",
   "execution_count": 9,
   "id": "6a31b53e",
   "metadata": {},
   "outputs": [],
   "source": [
    "housing = pd.read_csv('housing.csv')\n",
    "housing = housing[['price', 'area', 'bedrooms']]"
   ]
  },
  {
   "cell_type": "markdown",
   "id": "04ee21d9",
   "metadata": {},
   "source": [
    "### What is Linear Regression?"
   ]
  },
  {
   "cell_type": "markdown",
   "id": "abc23d6e",
   "metadata": {},
   "source": [
    "Refer back to the <a href=\"https://github.com/jin-woo-ahn/ml_fundamentals/blob/main/supervised/1.%20univariate_linear_regression.ipynb\">univariate linear regression tutorial</a> for a review of what linear regression is."
   ]
  },
  {
   "cell_type": "markdown",
   "id": "e0084835",
   "metadata": {},
   "source": [
    "### What Does This Look Like?"
   ]
  },
  {
   "cell_type": "markdown",
   "id": "882d1c7d",
   "metadata": {},
   "source": [
    "<a href=\"https://github.com/jin-woo-ahn/ml_fundamentals/blob/main/supervised/1.%20univariate_linear_regression.ipynb\">Previously</a>, we showed how we can use linear regression when there is a <b>positive linear relationship</b> across two different variables (e.g. the Price and Area from the house price example).\n",
    "\n",
    "With this information, we got to a conclusion where we can have the format <b>y = ax + b</b>. Now that we have more than one variable, our equation will change to <b>y = ax_1 + bx_2 + c</b>.\n",
    "\n",
    "Our x_1 will be the <b>area</b> and x_2 will be the <b>number of bedrooms</b>."
   ]
  },
  {
   "cell_type": "markdown",
   "id": "a0ee6738",
   "metadata": {},
   "source": [
    "### How Can We Train Our Model From This?"
   ]
  },
  {
   "cell_type": "markdown",
   "id": "d213e5c1",
   "metadata": {},
   "source": [
    "The process is the same as what we did in the very first tutorial, but for the sake of representation, let us try all the steps out."
   ]
  },
  {
   "cell_type": "code",
   "execution_count": 25,
   "id": "a48a8f52",
   "metadata": {},
   "outputs": [],
   "source": [
    "x_train = np.array(housing[['area', 'bedrooms']][0:450])\n",
    "y_train = np.array(housing['price'][0:450])\n",
    "\n",
    "x_test = np.array(housing[['area', 'bedrooms']][450:])\n",
    "y_test = np.array(housing['price'][450:])"
   ]
  },
  {
   "cell_type": "code",
   "execution_count": 26,
   "id": "a3329bcf",
   "metadata": {},
   "outputs": [],
   "source": [
    "lg_model = LinearRegression()"
   ]
  },
  {
   "cell_type": "code",
   "execution_count": 27,
   "id": "33922b8a",
   "metadata": {},
   "outputs": [
    {
     "data": {
      "text/html": [
       "<style>#sk-container-id-1 {color: black;background-color: white;}#sk-container-id-1 pre{padding: 0;}#sk-container-id-1 div.sk-toggleable {background-color: white;}#sk-container-id-1 label.sk-toggleable__label {cursor: pointer;display: block;width: 100%;margin-bottom: 0;padding: 0.3em;box-sizing: border-box;text-align: center;}#sk-container-id-1 label.sk-toggleable__label-arrow:before {content: \"▸\";float: left;margin-right: 0.25em;color: #696969;}#sk-container-id-1 label.sk-toggleable__label-arrow:hover:before {color: black;}#sk-container-id-1 div.sk-estimator:hover label.sk-toggleable__label-arrow:before {color: black;}#sk-container-id-1 div.sk-toggleable__content {max-height: 0;max-width: 0;overflow: hidden;text-align: left;background-color: #f0f8ff;}#sk-container-id-1 div.sk-toggleable__content pre {margin: 0.2em;color: black;border-radius: 0.25em;background-color: #f0f8ff;}#sk-container-id-1 input.sk-toggleable__control:checked~div.sk-toggleable__content {max-height: 200px;max-width: 100%;overflow: auto;}#sk-container-id-1 input.sk-toggleable__control:checked~label.sk-toggleable__label-arrow:before {content: \"▾\";}#sk-container-id-1 div.sk-estimator input.sk-toggleable__control:checked~label.sk-toggleable__label {background-color: #d4ebff;}#sk-container-id-1 div.sk-label input.sk-toggleable__control:checked~label.sk-toggleable__label {background-color: #d4ebff;}#sk-container-id-1 input.sk-hidden--visually {border: 0;clip: rect(1px 1px 1px 1px);clip: rect(1px, 1px, 1px, 1px);height: 1px;margin: -1px;overflow: hidden;padding: 0;position: absolute;width: 1px;}#sk-container-id-1 div.sk-estimator {font-family: monospace;background-color: #f0f8ff;border: 1px dotted black;border-radius: 0.25em;box-sizing: border-box;margin-bottom: 0.5em;}#sk-container-id-1 div.sk-estimator:hover {background-color: #d4ebff;}#sk-container-id-1 div.sk-parallel-item::after {content: \"\";width: 100%;border-bottom: 1px solid gray;flex-grow: 1;}#sk-container-id-1 div.sk-label:hover label.sk-toggleable__label {background-color: #d4ebff;}#sk-container-id-1 div.sk-serial::before {content: \"\";position: absolute;border-left: 1px solid gray;box-sizing: border-box;top: 0;bottom: 0;left: 50%;z-index: 0;}#sk-container-id-1 div.sk-serial {display: flex;flex-direction: column;align-items: center;background-color: white;padding-right: 0.2em;padding-left: 0.2em;position: relative;}#sk-container-id-1 div.sk-item {position: relative;z-index: 1;}#sk-container-id-1 div.sk-parallel {display: flex;align-items: stretch;justify-content: center;background-color: white;position: relative;}#sk-container-id-1 div.sk-item::before, #sk-container-id-1 div.sk-parallel-item::before {content: \"\";position: absolute;border-left: 1px solid gray;box-sizing: border-box;top: 0;bottom: 0;left: 50%;z-index: -1;}#sk-container-id-1 div.sk-parallel-item {display: flex;flex-direction: column;z-index: 1;position: relative;background-color: white;}#sk-container-id-1 div.sk-parallel-item:first-child::after {align-self: flex-end;width: 50%;}#sk-container-id-1 div.sk-parallel-item:last-child::after {align-self: flex-start;width: 50%;}#sk-container-id-1 div.sk-parallel-item:only-child::after {width: 0;}#sk-container-id-1 div.sk-dashed-wrapped {border: 1px dashed gray;margin: 0 0.4em 0.5em 0.4em;box-sizing: border-box;padding-bottom: 0.4em;background-color: white;}#sk-container-id-1 div.sk-label label {font-family: monospace;font-weight: bold;display: inline-block;line-height: 1.2em;}#sk-container-id-1 div.sk-label-container {text-align: center;}#sk-container-id-1 div.sk-container {/* jupyter's `normalize.less` sets `[hidden] { display: none; }` but bootstrap.min.css set `[hidden] { display: none !important; }` so we also need the `!important` here to be able to override the default hidden behavior on the sphinx rendered scikit-learn.org. See: https://github.com/scikit-learn/scikit-learn/issues/21755 */display: inline-block !important;position: relative;}#sk-container-id-1 div.sk-text-repr-fallback {display: none;}</style><div id=\"sk-container-id-1\" class=\"sk-top-container\"><div class=\"sk-text-repr-fallback\"><pre>LinearRegression()</pre><b>In a Jupyter environment, please rerun this cell to show the HTML representation or trust the notebook. <br />On GitHub, the HTML representation is unable to render, please try loading this page with nbviewer.org.</b></div><div class=\"sk-container\" hidden><div class=\"sk-item\"><div class=\"sk-estimator sk-toggleable\"><input class=\"sk-toggleable__control sk-hidden--visually\" id=\"sk-estimator-id-1\" type=\"checkbox\" checked><label for=\"sk-estimator-id-1\" class=\"sk-toggleable__label sk-toggleable__label-arrow\">LinearRegression</label><div class=\"sk-toggleable__content\"><pre>LinearRegression()</pre></div></div></div></div></div>"
      ],
      "text/plain": [
       "LinearRegression()"
      ]
     },
     "execution_count": 27,
     "metadata": {},
     "output_type": "execute_result"
    }
   ],
   "source": [
    "lg_model.fit(x_train, y_train)"
   ]
  },
  {
   "cell_type": "code",
   "execution_count": 28,
   "id": "e7b34722",
   "metadata": {},
   "outputs": [
    {
     "name": "stdout",
     "output_type": "stream",
     "text": [
      "(362.24680142328276, 1237164.5493464484)\n"
     ]
    }
   ],
   "source": [
    "slope = lg_model.coef_\n",
    "intercept = lg_model.intercept_\n",
    "print((slope[0], intercept))"
   ]
  },
  {
   "cell_type": "markdown",
   "id": "d0d5d3ad",
   "metadata": {},
   "source": [
    "### Performance?"
   ]
  },
  {
   "cell_type": "markdown",
   "id": "fef7adad",
   "metadata": {},
   "source": [
    "As expected, out performance on the training set increases with the addition of a new variable because the model is <b>more complex</b> now. However, the test score is still negative because there are a lot of variables that we have not taken into consideration yet."
   ]
  },
  {
   "cell_type": "code",
   "execution_count": 30,
   "id": "7944f498",
   "metadata": {},
   "outputs": [
    {
     "data": {
      "text/plain": [
       "0.3118586803622959"
      ]
     },
     "execution_count": 30,
     "metadata": {},
     "output_type": "execute_result"
    }
   ],
   "source": [
    "train_score = lg_model.score(x_train, y_train)\n",
    "train_score"
   ]
  },
  {
   "cell_type": "code",
   "execution_count": 31,
   "id": "c2b15bf8",
   "metadata": {},
   "outputs": [
    {
     "data": {
      "text/plain": [
       "-20.340743800303322"
      ]
     },
     "execution_count": 31,
     "metadata": {},
     "output_type": "execute_result"
    }
   ],
   "source": [
    "test_score = lg_model.score(x_test, y_test)\n",
    "test_score"
   ]
  },
  {
   "cell_type": "markdown",
   "id": "813d0681",
   "metadata": {},
   "source": [
    "### What's Next?"
   ]
  },
  {
   "cell_type": "markdown",
   "id": "ced10fc8",
   "metadata": {},
   "source": [
    "Congratulations on finishing the <b>Multiple Linear Regression</b> tutorial. Next, we will discuss <b>Feature Scaling</b>!"
   ]
  }
 ],
 "metadata": {
  "kernelspec": {
   "display_name": "Python 3 (ipykernel)",
   "language": "python",
   "name": "python3"
  },
  "language_info": {
   "codemirror_mode": {
    "name": "ipython",
    "version": 3
   },
   "file_extension": ".py",
   "mimetype": "text/x-python",
   "name": "python",
   "nbconvert_exporter": "python",
   "pygments_lexer": "ipython3",
   "version": "3.9.15"
  }
 },
 "nbformat": 4,
 "nbformat_minor": 5
}
