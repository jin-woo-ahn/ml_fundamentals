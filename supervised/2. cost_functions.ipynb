{
 "cells": [
  {
   "cell_type": "markdown",
   "id": "aa7a2c88",
   "metadata": {},
   "source": [
    "## Machine Learning Fundamentals: Cost Functions\n",
    "Author: Jinwoo Ahn"
   ]
  },
  {
   "cell_type": "markdown",
   "id": "ec1199a2",
   "metadata": {},
   "source": [
    "When dealing with machine learning models, there are several different important factors to take into consideration. For instance, it is important to make sure that <b>the linear regression line represents the dataset well</b>, like we talked about in the earlier tutorial. This, in other words, means that we have to <b>minimize the error that comes from our model's predictions</b>. In this tutorial, we are going to take a look at the idea of <b>cost functions</b> and what role they play in our machine learning models."
   ]
  },
  {
   "cell_type": "markdown",
   "id": "27ffd7e9",
   "metadata": {},
   "source": [
    "### Libraries & Files"
   ]
  },
  {
   "cell_type": "code",
   "execution_count": 1,
   "id": "e82505d4",
   "metadata": {},
   "outputs": [],
   "source": [
    "import numpy as np\n",
    "import pandas as pd\n",
    "import matplotlib.pyplot as plt"
   ]
  },
  {
   "cell_type": "markdown",
   "id": "5aaf0924",
   "metadata": {},
   "source": [
    "### What Are Cost Functions?"
   ]
  },
  {
   "cell_type": "markdown",
   "id": "55b7f3f1",
   "metadata": {},
   "source": [
    "The fundamental idea behind <b>cost functions</b> is to assess the level of error from our predictions. An example of a cost function is in the following format:\n",
    "\n",
    "  $$c(a,b) = \\frac{1}{2n} \\sum\\limits_{i = 0}^{n-1} (f_{a,b}(x_{(i)}) - y_{(i)})^2$$ \n",
    " \n",
    "where the following term is the linear regression line that we get from our model.\n",
    "\n",
    "$$f_{a,b}(x_{(i)})$$"
   ]
  },
  {
   "cell_type": "markdown",
   "id": "6f2719ad",
   "metadata": {},
   "source": [
    "The essential idea behind cost functions is to compute the <b>error of our prediction</b>. The above cost function one example of a cost function called the <b>mean-squared-error</b>, which is one of the most common cost functions when working with linear regression models.\n",
    "\n",
    "In real-world scenarios, there are multiple different ways to define cost functions depending on the model that we use. For simplicity, we use the above cost function in this tutorial."
   ]
  },
  {
   "cell_type": "markdown",
   "id": "b635c37c",
   "metadata": {},
   "source": [
    "### What Does This Look Like in 2D?"
   ]
  },
  {
   "cell_type": "markdown",
   "id": "93beede4",
   "metadata": {},
   "source": [
    "Let's say we have the following linear regression line:\n",
    "\n",
    "$$f_{a,b}(x_{i}) = ax_{i} + b \\tag{2}$$\n",
    "\n",
    "where a = 0.5 and b = 0, which gives:\n",
    "\n",
    "$$f(x_{i}) = 0.5x_{i} \\tag{2}$$"
   ]
  },
  {
   "cell_type": "code",
   "execution_count": 16,
   "id": "21216fbb",
   "metadata": {},
   "outputs": [],
   "source": [
    "def prediction(a, b, x):\n",
    "    rv = []\n",
    "    for x_i in x:\n",
    "        temp = a * x_i + b\n",
    "        rv.append(temp)\n",
    "    return rv"
   ]
  },
  {
   "cell_type": "markdown",
   "id": "533b8b6b",
   "metadata": {},
   "source": [
    "and the following dataset:"
   ]
  },
  {
   "cell_type": "code",
   "execution_count": 17,
   "id": "ad57d2a3",
   "metadata": {},
   "outputs": [],
   "source": [
    "x = [0, 1, 2]\n",
    "y = [0, 1, 2]"
   ]
  },
  {
   "cell_type": "markdown",
   "id": "f65f7bfe",
   "metadata": {},
   "source": [
    "If we go ahead that plot the function and the dataset given, we get the following visualization:"
   ]
  },
  {
   "cell_type": "code",
   "execution_count": 18,
   "id": "a140bce2",
   "metadata": {},
   "outputs": [
    {
     "data": {
      "text/plain": [
       "Text(0, 0.5, 'y')"
      ]
     },
     "execution_count": 18,
     "metadata": {},
     "output_type": "execute_result"
    },
    {
     "data": {
      "image/png": "[encoded data removed]",
      "text/plain": [
       "<Figure size 640x480 with 1 Axes>"
      ]
     },
     "metadata": {},
     "output_type": "display_data"
    }
   ],
   "source": [
    "plt.scatter(x, y)\n",
    "plt.plot(x, prediction(0.5, 0, x), color=\"red\")\n",
    "\n",
    "plt.title(\"Sample Data\")\n",
    "plt.xlabel(\"x\")\n",
    "plt.ylabel(\"y\")"
   ]
  },
  {
   "cell_type": "markdown",
   "id": "22411c9b",
   "metadata": {},
   "source": [
    "From this plot, we can find the error, which we define as <b>\"actual value - predicted value\"</b>.\n",
    "\n",
    "|x value <img width=70/> | actual value <img width=350/> | predicted value <img width=70/> | Error |\n",
    "|: ------------|: ------------------------------------------------------------|||\n",
    "| $x = 0$ | $y = 0$ | $y_{hat} = 0$ | $0$\n",
    "| $x = 1$ | $y = 1$ | $y_{hat} = 0.5$ | $0.5$\n",
    "| $x = 2$ | $y = 2$ | $y_{hat} = 1$ | $1$"
   ]
  },
  {
   "cell_type": "markdown",
   "id": "4796462c",
   "metadata": {},
   "source": [
    "If we now plug these error values back into the cost function, we get the following expression:\n",
    "\n",
    "$$c(0.5,0) = \\frac{1}{2*3} ((f_{0.5,0}(x_{(0)}) - y_{(0)})^2 + (f_{0.5,0}(x_{(1)}) - y_{(1)})^2 + (f_{0.5,0}(x_{(2)}) - y_{(2)})^2)$$ \n",
    "\n",
    "After simplifying the expression:\n",
    "\n",
    "$$\\frac{1}{6}(0 + 0.25 + 1) = 0.2083$$\n",
    "\n",
    "This means that the cost is 0.2083, which is very decent because the <b>optimal situation is where the cost is 0</b>.\n",
    "\n",
    "If this is difficult to understand, think of it this way: <b>If you are paying to buy the same thing, it is always better to have a lower cost!</b>"
   ]
  },
  {
   "cell_type": "markdown",
   "id": "9f91f59c",
   "metadata": {},
   "source": [
    "### What Does This Look Like in 3D?"
   ]
  },
  {
   "cell_type": "markdown",
   "id": "0cab64a8",
   "metadata": {},
   "source": [
    "For simplicity, <b>we are assuming that there is only one variable that plays a role in our cost function</b> by setting the intercept term $b$ to be 0. Recall that even in the linear regression example from the previous tutorial, we assumed a <b>univariate model</b> where only the <b>house size</b> was used to predict <b>house price</b>.\n",
    "\n",
    "Yet, in real-world scenarios, there are cases in which there are multiple variables that affect the result of our machine learnig model. We will dive into those in later tutorials but for now, <b>let's try to get a little more closer to how the intercept term $b$ will affect the visualization of cost functions</b>."
   ]
  },
  {
   "cell_type": "markdown",
   "id": "1c55621a",
   "metadata": {},
   "source": [
    "<figure>\n",
    "    <center> <img src=\"./3d_visual.png\"  style=\"width:500px;height:400px;\" ></center>\n",
    "</figure>\n",
    "\n",
    "Source: https://medium.com/@shwetaka1988/rmsprop-a-better-way-to-optimize-your-model-bc4eaca33090"
   ]
  },
  {
   "cell_type": "markdown",
   "id": "2a75c5cc",
   "metadata": {},
   "source": [
    "In the above diagram, the $z$ axis represents the cost, while $x$ and $y$ represent the slope $a$ and intercept $b$ from the linear regression line.\n",
    "\n",
    "The <b>closer you get to the bottom surface, the lesser the cost is</b>. In other words, the cost will be <b>at minimum at point B</b>."
   ]
  },
  {
   "cell_type": "markdown",
   "id": "856930c0",
   "metadata": {},
   "source": [
    "### How to Find the Values that Minimize the Costs?"
   ]
  },
  {
   "cell_type": "markdown",
   "id": "76b5cf95",
   "metadata": {},
   "source": [
    "So... would we always try to graph the variables to find what value minimizes the cost?\n",
    "\n",
    "<b>No</b>! In fact, this is almost impossible as we have more variables that affect our machine learning model. We will discuss a method called <b>gradient descent</b> in the next tutorial, which is an algorithm that allows you to find the parameter values that minimize the cost."
   ]
  },
  {
   "cell_type": "markdown",
   "id": "385f834a",
   "metadata": {},
   "source": [
    "### What's Next?"
   ]
  },
  {
   "cell_type": "markdown",
   "id": "d5f80129",
   "metadata": {},
   "source": [
    "Congratulations on finishing the <b>Cost Functions</b> tutorial. Next, we will discuss <b>Gradient Descent</b>!"
   ]
  }
 ],
 "metadata": {
  "kernelspec": {
   "display_name": "Python 3 (ipykernel)",
   "language": "python",
   "name": "python3"
  },
  "language_info": {
   "codemirror_mode": {
    "name": "ipython",
    "version": 3
   },
   "file_extension": ".py",
   "mimetype": "text/x-python",
   "name": "python",
   "nbconvert_exporter": "python",
   "pygments_lexer": "ipython3",
   "version": "3.9.15"
  }
 },
 "nbformat": 4,
 "nbformat_minor": 5
}
